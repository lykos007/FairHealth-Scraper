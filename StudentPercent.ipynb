{
  "nbformat": 4,
  "nbformat_minor": 0,
  "metadata": {
    "colab": {
      "provenance": [],
      "authorship_tag": "ABX9TyOJiUkzon81lmHNJqWQs29O",
      "include_colab_link": true
    },
    "kernelspec": {
      "name": "python3",
      "display_name": "Python 3"
    },
    "language_info": {
      "name": "python"
    }
  },
  "cells": [
    {
      "cell_type": "markdown",
      "metadata": {
        "id": "view-in-github",
        "colab_type": "text"
      },
      "source": [
        "<a href=\"https://colab.research.google.com/github/lykos007/FairHealth-Scraper/blob/main/StudentPercent.ipynb\" target=\"_parent\"><img src=\"https://colab.research.google.com/assets/colab-badge.svg\" alt=\"Open In Colab\"/></a>"
      ]
    },
    {
      "cell_type": "code",
      "execution_count": 1,
      "metadata": {
        "id": "-Goj1YtOs9_i"
      },
      "outputs": [],
      "source": [
        "class Student:\n",
        "    def __init__(self, student_id, name, marks):\n",
        "        self.student_id = student_id\n",
        "        self.name = name\n",
        "        self.marks = marks\n",
        "\n",
        "    def to_dict(self):\n",
        "        \"\"\"Converts the Student object to a dictionary.\"\"\"\n",
        "        return {\n",
        "            'student_id': self.student_id,\n",
        "            'name': self.name,\n",
        "            'marks': self.marks\n",
        "        }"
      ]
    },
    {
      "cell_type": "code",
      "source": [
        "student1 = Student(1001, 'John Doe', [100, 200, 300, 400, 500, 600])\n"
      ],
      "metadata": {
        "id": "-8UF8P25CL1r"
      },
      "execution_count": 2,
      "outputs": []
    },
    {
      "cell_type": "code",
      "source": [
        "student_dict = student1.to_dict()"
      ],
      "metadata": {
        "id": "o9c7HQUlC7Pg"
      },
      "execution_count": 3,
      "outputs": []
    },
    {
      "cell_type": "code",
      "source": [
        "print(student_dict)\n"
      ],
      "metadata": {
        "colab": {
          "base_uri": "https://localhost:8080/"
        },
        "id": "U-iscvShDKrr",
        "outputId": "916e3fea-aa4e-4941-9bba-c2c3950ad928"
      },
      "execution_count": 5,
      "outputs": [
        {
          "output_type": "stream",
          "name": "stdout",
          "text": [
            "{'student_id': 1001, 'name': 'John Doe', 'marks': [100, 200, 300, 400, 500, 600]}\n"
          ]
        }
      ]
    }
  ]
}
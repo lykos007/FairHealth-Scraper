{
  "nbformat": 4,
  "nbformat_minor": 0,
  "metadata": {
    "colab": {
      "provenance": [],
      "authorship_tag": "ABX9TyOxdW/4zZ5vqmAC8pOBpyAr",
      "include_colab_link": true
    },
    "kernelspec": {
      "name": "python3",
      "display_name": "Python 3"
    },
    "language_info": {
      "name": "python"
    }
  },
  "cells": [
    {
      "cell_type": "markdown",
      "metadata": {
        "id": "view-in-github",
        "colab_type": "text"
      },
      "source": [
        "<a href=\"https://colab.research.google.com/github/lykos007/FairHealth-Scraper/blob/main/StudentPercent.ipynb\" target=\"_parent\"><img src=\"https://colab.research.google.com/assets/colab-badge.svg\" alt=\"Open In Colab\"/></a>"
      ]
    },
    {
      "cell_type": "code",
      "execution_count": 1,
      "metadata": {
        "id": "-Goj1YtOs9_i"
      },
      "outputs": [],
      "source": [
        "class Student:\n",
        "    students = []  # Class-level list to store student dictionaries\n",
        "\n",
        "    def __init__(self, student_id, name, marks):\n",
        "        self.student_id = student_id\n",
        "        self.name = name\n",
        "        self.marks = marks\n",
        "        self.percentage = None  # Initialize percentage as None initially\n",
        "\n",
        "    def to_dict(self):\n",
        "        \"\"\"Converts the Student object to a dictionary.\"\"\"\n",
        "        return {\n",
        "            'student_id': self.student_id,\n",
        "            'name': self.name,\n",
        "            'marks': self.marks,\n",
        "            'percentage': self.percentage\n",
        "\n",
        "        }\n",
        "\n",
        "    def calculate_percentage(self):\n",
        "        \"\"\"Calculates the percentage based on the marks.\"\"\"\n",
        "        if self.marks:\n",
        "            total_marks = sum(self.marks)\n",
        "            number_of_subjects = len(self.marks)\n",
        "            self.percentage = (total_marks / (number_of_subjects * 100)) * 100\n",
        "        else:\n",
        "            self.percentage = None  # If no marks are provided, set percentage to None\n",
        "\n",
        "    def add_to_students_list(self):\n",
        "        \"\"\"Adds the student dictionary to the class-level list.\"\"\"\n",
        "        student_dict = self.to_dict()\n",
        "\n",
        "        # Check if student is already in the list\n",
        "        for i, student_entry in enumerate(self.students):\n",
        "            if student_entry['student_id'] == self.student_id:\n",
        "                # Update existing entry\n",
        "                self.students[i] = student_dict\n",
        "                return\n",
        "\n",
        "        # If student is not in the list, add a new entry\n",
        "        self.students.append(student_dict)\n",
        "\n",
        "    @classmethod\n",
        "    def print_students(cls):\n",
        "        \"\"\"Prints student information excluding key-value pairs with values as None.\"\"\"\n",
        "        for student_entry in cls.students:\n",
        "            filtered_info = {key: value for key, value in student_entry.items() if value is not None}\n",
        "            print(filtered_info)\n",
        "\n"
      ]
    },
    {
      "cell_type": "code",
      "source": [
        ""
      ],
      "metadata": {
        "id": "-8UF8P25CL1r"
      },
      "execution_count": 2,
      "outputs": []
    }
  ]
}